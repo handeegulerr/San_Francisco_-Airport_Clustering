{
 "cells": [
  {
   "cell_type": "code",
   "execution_count": 37,
   "metadata": {},
   "outputs": [],
   "source": [
    "import pandas as pd\n",
    "import numpy as np\n",
    "import seaborn as sns\n",
    "import matplotlib.pyplot as plt\n",
    "%matplotlib inline\n",
    "pd.set_option(\"display.max_columns\",200)\n",
    "\n",
    "import warnings\n",
    "warnings.simplefilter('ignore') #uyarıları görmemek için.\n",
    "\n",
    "from sklearn.linear_model import LogisticRegression\n",
    "from sklearn.naive_bayes import GaussianNB, BernoulliNB #binary ise evet- hayır, 1-0\n",
    "from sklearn.ensemble import GradientBoostingClassifier, RandomForestClassifier\n",
    "from sklearn.tree import DecisionTreeClassifier , ExtraTreeClassifier\n",
    "from sklearn.neighbors import KNeighborsClassifier\n",
    "from sklearn.cluster import KMeans\n",
    "\n",
    "from sklearn import metrics\n",
    "from sklearn.model_selection import train_test_split\n",
    "from sklearn.metrics import accuracy_score, precision_score, recall_score, f1_score\n",
    "from sklearn.metrics import confusion_matrix, classification_report\n",
    "from sklearn.metrics import silhouette_score #başarıyı öğrenmek için\n",
    "from xgboost import XGBClassifier\n",
    "\n",
    "r = RandomForestClassifier()\n",
    "gbc = GradientBoostingClassifier()\n",
    "d = DecisionTreeClassifier()\n",
    "log = LogisticRegression()\n",
    "k = KNeighborsClassifier()\n",
    "g = GaussianNB()\n",
    "b = BernoulliNB()\n",
    "xgbc = XGBClassifier()"
   ]
  },
  {
   "cell_type": "code",
   "execution_count": 2,
   "metadata": {},
   "outputs": [],
   "source": [
    "df = pd.read_csv(\"air-traffic-passenger-statistics.csv\")"
   ]
  },
  {
   "cell_type": "code",
   "execution_count": 3,
   "metadata": {},
   "outputs": [],
   "source": [
    "df.columns =df.columns.str.replace(\" \", \"_\")"
   ]
  },
  {
   "cell_type": "code",
   "execution_count": 4,
   "metadata": {
    "scrolled": false
   },
   "outputs": [
    {
     "data": {
      "text/html": [
       "<div>\n",
       "<style scoped>\n",
       "    .dataframe tbody tr th:only-of-type {\n",
       "        vertical-align: middle;\n",
       "    }\n",
       "\n",
       "    .dataframe tbody tr th {\n",
       "        vertical-align: top;\n",
       "    }\n",
       "\n",
       "    .dataframe thead th {\n",
       "        text-align: right;\n",
       "    }\n",
       "</style>\n",
       "<table border=\"1\" class=\"dataframe\">\n",
       "  <thead>\n",
       "    <tr style=\"text-align: right;\">\n",
       "      <th></th>\n",
       "      <th>Activity_Period</th>\n",
       "      <th>Operating_Airline</th>\n",
       "      <th>Operating_Airline_IATA_Code</th>\n",
       "      <th>Published_Airline</th>\n",
       "      <th>Published_Airline_IATA_Code</th>\n",
       "      <th>GEO_Summary</th>\n",
       "      <th>GEO_Region</th>\n",
       "      <th>Activity_Type_Code</th>\n",
       "      <th>Price_Category_Code</th>\n",
       "      <th>Terminal</th>\n",
       "      <th>Boarding_Area</th>\n",
       "      <th>Passenger_Count</th>\n",
       "    </tr>\n",
       "  </thead>\n",
       "  <tbody>\n",
       "    <tr>\n",
       "      <th>0</th>\n",
       "      <td>200507</td>\n",
       "      <td>ATA Airlines</td>\n",
       "      <td>TZ</td>\n",
       "      <td>ATA Airlines</td>\n",
       "      <td>TZ</td>\n",
       "      <td>Domestic</td>\n",
       "      <td>US</td>\n",
       "      <td>Deplaned</td>\n",
       "      <td>Low Fare</td>\n",
       "      <td>Terminal 1</td>\n",
       "      <td>B</td>\n",
       "      <td>27271</td>\n",
       "    </tr>\n",
       "    <tr>\n",
       "      <th>1</th>\n",
       "      <td>200507</td>\n",
       "      <td>ATA Airlines</td>\n",
       "      <td>TZ</td>\n",
       "      <td>ATA Airlines</td>\n",
       "      <td>TZ</td>\n",
       "      <td>Domestic</td>\n",
       "      <td>US</td>\n",
       "      <td>Enplaned</td>\n",
       "      <td>Low Fare</td>\n",
       "      <td>Terminal 1</td>\n",
       "      <td>B</td>\n",
       "      <td>29131</td>\n",
       "    </tr>\n",
       "    <tr>\n",
       "      <th>2</th>\n",
       "      <td>200507</td>\n",
       "      <td>ATA Airlines</td>\n",
       "      <td>TZ</td>\n",
       "      <td>ATA Airlines</td>\n",
       "      <td>TZ</td>\n",
       "      <td>Domestic</td>\n",
       "      <td>US</td>\n",
       "      <td>Thru / Transit</td>\n",
       "      <td>Low Fare</td>\n",
       "      <td>Terminal 1</td>\n",
       "      <td>B</td>\n",
       "      <td>5415</td>\n",
       "    </tr>\n",
       "    <tr>\n",
       "      <th>3</th>\n",
       "      <td>200507</td>\n",
       "      <td>Air Canada</td>\n",
       "      <td>AC</td>\n",
       "      <td>Air Canada</td>\n",
       "      <td>AC</td>\n",
       "      <td>International</td>\n",
       "      <td>Canada</td>\n",
       "      <td>Deplaned</td>\n",
       "      <td>Other</td>\n",
       "      <td>Terminal 1</td>\n",
       "      <td>B</td>\n",
       "      <td>35156</td>\n",
       "    </tr>\n",
       "    <tr>\n",
       "      <th>4</th>\n",
       "      <td>200507</td>\n",
       "      <td>Air Canada</td>\n",
       "      <td>AC</td>\n",
       "      <td>Air Canada</td>\n",
       "      <td>AC</td>\n",
       "      <td>International</td>\n",
       "      <td>Canada</td>\n",
       "      <td>Enplaned</td>\n",
       "      <td>Other</td>\n",
       "      <td>Terminal 1</td>\n",
       "      <td>B</td>\n",
       "      <td>34090</td>\n",
       "    </tr>\n",
       "  </tbody>\n",
       "</table>\n",
       "</div>"
      ],
      "text/plain": [
       "   Activity_Period Operating_Airline Operating_Airline_IATA_Code  \\\n",
       "0           200507      ATA Airlines                          TZ   \n",
       "1           200507      ATA Airlines                          TZ   \n",
       "2           200507      ATA Airlines                          TZ   \n",
       "3           200507        Air Canada                          AC   \n",
       "4           200507        Air Canada                          AC   \n",
       "\n",
       "  Published_Airline Published_Airline_IATA_Code    GEO_Summary GEO_Region  \\\n",
       "0      ATA Airlines                          TZ       Domestic         US   \n",
       "1      ATA Airlines                          TZ       Domestic         US   \n",
       "2      ATA Airlines                          TZ       Domestic         US   \n",
       "3        Air Canada                          AC  International     Canada   \n",
       "4        Air Canada                          AC  International     Canada   \n",
       "\n",
       "  Activity_Type_Code Price_Category_Code    Terminal Boarding_Area  \\\n",
       "0           Deplaned            Low Fare  Terminal 1             B   \n",
       "1           Enplaned            Low Fare  Terminal 1             B   \n",
       "2     Thru / Transit            Low Fare  Terminal 1             B   \n",
       "3           Deplaned               Other  Terminal 1             B   \n",
       "4           Enplaned               Other  Terminal 1             B   \n",
       "\n",
       "   Passenger_Count  \n",
       "0            27271  \n",
       "1            29131  \n",
       "2             5415  \n",
       "3            35156  \n",
       "4            34090  "
      ]
     },
     "execution_count": 4,
     "metadata": {},
     "output_type": "execute_result"
    }
   ],
   "source": [
    "df.head()"
   ]
  },
  {
   "cell_type": "code",
   "execution_count": 23,
   "metadata": {
    "scrolled": true
   },
   "outputs": [
    {
     "data": {
      "text/html": [
       "<div>\n",
       "<style scoped>\n",
       "    .dataframe tbody tr th:only-of-type {\n",
       "        vertical-align: middle;\n",
       "    }\n",
       "\n",
       "    .dataframe tbody tr th {\n",
       "        vertical-align: top;\n",
       "    }\n",
       "\n",
       "    .dataframe thead th {\n",
       "        text-align: right;\n",
       "    }\n",
       "</style>\n",
       "<table border=\"1\" class=\"dataframe\">\n",
       "  <thead>\n",
       "    <tr style=\"text-align: right;\">\n",
       "      <th></th>\n",
       "      <th>GEO_Region</th>\n",
       "      <th>Price_Category_Code</th>\n",
       "      <th>Passenger_Count</th>\n",
       "      <th>Terminal</th>\n",
       "    </tr>\n",
       "  </thead>\n",
       "  <tbody>\n",
       "    <tr>\n",
       "      <th>0</th>\n",
       "      <td>US</td>\n",
       "      <td>Low Fare</td>\n",
       "      <td>27271</td>\n",
       "      <td>Terminal 1</td>\n",
       "    </tr>\n",
       "    <tr>\n",
       "      <th>1</th>\n",
       "      <td>US</td>\n",
       "      <td>Low Fare</td>\n",
       "      <td>29131</td>\n",
       "      <td>Terminal 1</td>\n",
       "    </tr>\n",
       "    <tr>\n",
       "      <th>2</th>\n",
       "      <td>US</td>\n",
       "      <td>Low Fare</td>\n",
       "      <td>5415</td>\n",
       "      <td>Terminal 1</td>\n",
       "    </tr>\n",
       "    <tr>\n",
       "      <th>3</th>\n",
       "      <td>Canada</td>\n",
       "      <td>Other</td>\n",
       "      <td>35156</td>\n",
       "      <td>Terminal 1</td>\n",
       "    </tr>\n",
       "    <tr>\n",
       "      <th>4</th>\n",
       "      <td>Canada</td>\n",
       "      <td>Other</td>\n",
       "      <td>34090</td>\n",
       "      <td>Terminal 1</td>\n",
       "    </tr>\n",
       "    <tr>\n",
       "      <th>...</th>\n",
       "      <td>...</td>\n",
       "      <td>...</td>\n",
       "      <td>...</td>\n",
       "      <td>...</td>\n",
       "    </tr>\n",
       "    <tr>\n",
       "      <th>18880</th>\n",
       "      <td>Europe</td>\n",
       "      <td>Other</td>\n",
       "      <td>50</td>\n",
       "      <td>International</td>\n",
       "    </tr>\n",
       "    <tr>\n",
       "      <th>18881</th>\n",
       "      <td>Canada</td>\n",
       "      <td>Other</td>\n",
       "      <td>10868</td>\n",
       "      <td>International</td>\n",
       "    </tr>\n",
       "    <tr>\n",
       "      <th>18882</th>\n",
       "      <td>Canada</td>\n",
       "      <td>Other</td>\n",
       "      <td>11664</td>\n",
       "      <td>International</td>\n",
       "    </tr>\n",
       "    <tr>\n",
       "      <th>18883</th>\n",
       "      <td>Europe</td>\n",
       "      <td>Other</td>\n",
       "      <td>804</td>\n",
       "      <td>International</td>\n",
       "    </tr>\n",
       "    <tr>\n",
       "      <th>18884</th>\n",
       "      <td>Europe</td>\n",
       "      <td>Other</td>\n",
       "      <td>1243</td>\n",
       "      <td>International</td>\n",
       "    </tr>\n",
       "  </tbody>\n",
       "</table>\n",
       "<p>18885 rows × 4 columns</p>\n",
       "</div>"
      ],
      "text/plain": [
       "      GEO_Region Price_Category_Code  Passenger_Count       Terminal\n",
       "0             US            Low Fare            27271     Terminal 1\n",
       "1             US            Low Fare            29131     Terminal 1\n",
       "2             US            Low Fare             5415     Terminal 1\n",
       "3         Canada               Other            35156     Terminal 1\n",
       "4         Canada               Other            34090     Terminal 1\n",
       "...          ...                 ...              ...            ...\n",
       "18880     Europe               Other               50  International\n",
       "18881     Canada               Other            10868  International\n",
       "18882     Canada               Other            11664  International\n",
       "18883     Europe               Other              804  International\n",
       "18884     Europe               Other             1243  International\n",
       "\n",
       "[18885 rows x 4 columns]"
      ]
     },
     "execution_count": 23,
     "metadata": {},
     "output_type": "execute_result"
    }
   ],
   "source": [
    "df = df[[\"GEO_Region\",\"Price_Category_Code\",\"Passenger_Count\",\"Terminal\"]]\n",
    "df"
   ]
  },
  {
   "cell_type": "code",
   "execution_count": 48,
   "metadata": {},
   "outputs": [
    {
     "data": {
      "text/plain": [
       "array(['Terminal 1', 'International', 'Terminal 3', 'Other', 'Terminal 2'],\n",
       "      dtype=object)"
      ]
     },
     "execution_count": 48,
     "metadata": {},
     "output_type": "execute_result"
    }
   ],
   "source": [
    "df[\"Terminal\"].unique()"
   ]
  },
  {
   "cell_type": "code",
   "execution_count": 24,
   "metadata": {
    "scrolled": true
   },
   "outputs": [
    {
     "name": "stdout",
     "output_type": "stream",
     "text": [
      "<class 'pandas.core.frame.DataFrame'>\n",
      "RangeIndex: 18885 entries, 0 to 18884\n",
      "Data columns (total 4 columns):\n",
      " #   Column               Non-Null Count  Dtype \n",
      "---  ------               --------------  ----- \n",
      " 0   GEO_Region           18885 non-null  object\n",
      " 1   Price_Category_Code  18885 non-null  object\n",
      " 2   Passenger_Count      18885 non-null  int64 \n",
      " 3   Terminal             18885 non-null  object\n",
      "dtypes: int64(1), object(3)\n",
      "memory usage: 590.3+ KB\n"
     ]
    }
   ],
   "source": [
    "df.info()"
   ]
  },
  {
   "cell_type": "code",
   "execution_count": 49,
   "metadata": {},
   "outputs": [],
   "source": [
    "df[\"GEO_Region\"] = df[\"GEO_Region\"].astype(\"category\")"
   ]
  },
  {
   "cell_type": "code",
   "execution_count": 50,
   "metadata": {},
   "outputs": [],
   "source": [
    "df[\"Price_Category_Code\"] = df[\"Price_Category_Code\"].astype(\"category\")"
   ]
  },
  {
   "cell_type": "code",
   "execution_count": 51,
   "metadata": {},
   "outputs": [],
   "source": [
    "df[\"Terminal\"] = df[\"Terminal\"].astype(\"category\")"
   ]
  },
  {
   "cell_type": "code",
   "execution_count": 52,
   "metadata": {},
   "outputs": [
    {
     "name": "stdout",
     "output_type": "stream",
     "text": [
      "<class 'pandas.core.frame.DataFrame'>\n",
      "RangeIndex: 18885 entries, 0 to 18884\n",
      "Data columns (total 4 columns):\n",
      " #   Column               Non-Null Count  Dtype   \n",
      "---  ------               --------------  -----   \n",
      " 0   GEO_Region           18885 non-null  category\n",
      " 1   Price_Category_Code  18885 non-null  category\n",
      " 2   Passenger_Count      18885 non-null  int64   \n",
      " 3   Terminal             18885 non-null  category\n",
      "dtypes: category(3), int64(1)\n",
      "memory usage: 203.7 KB\n"
     ]
    }
   ],
   "source": [
    "df.info()"
   ]
  },
  {
   "cell_type": "code",
   "execution_count": 25,
   "metadata": {},
   "outputs": [
    {
     "data": {
      "text/plain": [
       "GEO_Region             0\n",
       "Price_Category_Code    0\n",
       "Passenger_Count        0\n",
       "Terminal               0\n",
       "dtype: int64"
      ]
     },
     "execution_count": 25,
     "metadata": {},
     "output_type": "execute_result"
    }
   ],
   "source": [
    "df.isnull().sum()"
   ]
  },
  {
   "cell_type": "code",
   "execution_count": 26,
   "metadata": {},
   "outputs": [
    {
     "data": {
      "text/plain": [
       "(18885, 4)"
      ]
     },
     "execution_count": 26,
     "metadata": {},
     "output_type": "execute_result"
    }
   ],
   "source": [
    "df.shape"
   ]
  },
  {
   "cell_type": "code",
   "execution_count": 27,
   "metadata": {
    "scrolled": true
   },
   "outputs": [
    {
     "data": {
      "text/html": [
       "<div>\n",
       "<style scoped>\n",
       "    .dataframe tbody tr th:only-of-type {\n",
       "        vertical-align: middle;\n",
       "    }\n",
       "\n",
       "    .dataframe tbody tr th {\n",
       "        vertical-align: top;\n",
       "    }\n",
       "\n",
       "    .dataframe thead th {\n",
       "        text-align: right;\n",
       "    }\n",
       "</style>\n",
       "<table border=\"1\" class=\"dataframe\">\n",
       "  <thead>\n",
       "    <tr style=\"text-align: right;\">\n",
       "      <th></th>\n",
       "      <th>GEO_Region</th>\n",
       "      <th>Price_Category_Code</th>\n",
       "      <th>Passenger_Count</th>\n",
       "      <th>Terminal</th>\n",
       "    </tr>\n",
       "  </thead>\n",
       "  <tbody>\n",
       "    <tr>\n",
       "      <th>0</th>\n",
       "      <td>US</td>\n",
       "      <td>Low Fare</td>\n",
       "      <td>27271</td>\n",
       "      <td>Terminal 1</td>\n",
       "    </tr>\n",
       "    <tr>\n",
       "      <th>1</th>\n",
       "      <td>US</td>\n",
       "      <td>Low Fare</td>\n",
       "      <td>29131</td>\n",
       "      <td>Terminal 1</td>\n",
       "    </tr>\n",
       "    <tr>\n",
       "      <th>2</th>\n",
       "      <td>US</td>\n",
       "      <td>Low Fare</td>\n",
       "      <td>5415</td>\n",
       "      <td>Terminal 1</td>\n",
       "    </tr>\n",
       "    <tr>\n",
       "      <th>3</th>\n",
       "      <td>Canada</td>\n",
       "      <td>Other</td>\n",
       "      <td>35156</td>\n",
       "      <td>Terminal 1</td>\n",
       "    </tr>\n",
       "    <tr>\n",
       "      <th>4</th>\n",
       "      <td>Canada</td>\n",
       "      <td>Other</td>\n",
       "      <td>34090</td>\n",
       "      <td>Terminal 1</td>\n",
       "    </tr>\n",
       "  </tbody>\n",
       "</table>\n",
       "</div>"
      ],
      "text/plain": [
       "  GEO_Region Price_Category_Code  Passenger_Count    Terminal\n",
       "0         US            Low Fare            27271  Terminal 1\n",
       "1         US            Low Fare            29131  Terminal 1\n",
       "2         US            Low Fare             5415  Terminal 1\n",
       "3     Canada               Other            35156  Terminal 1\n",
       "4     Canada               Other            34090  Terminal 1"
      ]
     },
     "execution_count": 27,
     "metadata": {},
     "output_type": "execute_result"
    }
   ],
   "source": [
    "df.head()"
   ]
  },
  {
   "cell_type": "code",
   "execution_count": 53,
   "metadata": {},
   "outputs": [],
   "source": [
    "x = pd.get_dummies(df,drop_first=True)"
   ]
  },
  {
   "cell_type": "code",
   "execution_count": 54,
   "metadata": {},
   "outputs": [
    {
     "data": {
      "text/html": [
       "<div>\n",
       "<style scoped>\n",
       "    .dataframe tbody tr th:only-of-type {\n",
       "        vertical-align: middle;\n",
       "    }\n",
       "\n",
       "    .dataframe tbody tr th {\n",
       "        vertical-align: top;\n",
       "    }\n",
       "\n",
       "    .dataframe thead th {\n",
       "        text-align: right;\n",
       "    }\n",
       "</style>\n",
       "<table border=\"1\" class=\"dataframe\">\n",
       "  <thead>\n",
       "    <tr style=\"text-align: right;\">\n",
       "      <th></th>\n",
       "      <th>Passenger_Count</th>\n",
       "      <th>GEO_Region_Australia / Oceania</th>\n",
       "      <th>GEO_Region_Canada</th>\n",
       "      <th>GEO_Region_Central America</th>\n",
       "      <th>GEO_Region_Europe</th>\n",
       "      <th>GEO_Region_Mexico</th>\n",
       "      <th>GEO_Region_Middle East</th>\n",
       "      <th>GEO_Region_South America</th>\n",
       "      <th>GEO_Region_US</th>\n",
       "      <th>Price_Category_Code_Other</th>\n",
       "      <th>Terminal_Other</th>\n",
       "      <th>Terminal_Terminal 1</th>\n",
       "      <th>Terminal_Terminal 2</th>\n",
       "      <th>Terminal_Terminal 3</th>\n",
       "    </tr>\n",
       "  </thead>\n",
       "  <tbody>\n",
       "    <tr>\n",
       "      <th>0</th>\n",
       "      <td>27271</td>\n",
       "      <td>0</td>\n",
       "      <td>0</td>\n",
       "      <td>0</td>\n",
       "      <td>0</td>\n",
       "      <td>0</td>\n",
       "      <td>0</td>\n",
       "      <td>0</td>\n",
       "      <td>1</td>\n",
       "      <td>0</td>\n",
       "      <td>0</td>\n",
       "      <td>1</td>\n",
       "      <td>0</td>\n",
       "      <td>0</td>\n",
       "    </tr>\n",
       "    <tr>\n",
       "      <th>1</th>\n",
       "      <td>29131</td>\n",
       "      <td>0</td>\n",
       "      <td>0</td>\n",
       "      <td>0</td>\n",
       "      <td>0</td>\n",
       "      <td>0</td>\n",
       "      <td>0</td>\n",
       "      <td>0</td>\n",
       "      <td>1</td>\n",
       "      <td>0</td>\n",
       "      <td>0</td>\n",
       "      <td>1</td>\n",
       "      <td>0</td>\n",
       "      <td>0</td>\n",
       "    </tr>\n",
       "    <tr>\n",
       "      <th>2</th>\n",
       "      <td>5415</td>\n",
       "      <td>0</td>\n",
       "      <td>0</td>\n",
       "      <td>0</td>\n",
       "      <td>0</td>\n",
       "      <td>0</td>\n",
       "      <td>0</td>\n",
       "      <td>0</td>\n",
       "      <td>1</td>\n",
       "      <td>0</td>\n",
       "      <td>0</td>\n",
       "      <td>1</td>\n",
       "      <td>0</td>\n",
       "      <td>0</td>\n",
       "    </tr>\n",
       "    <tr>\n",
       "      <th>3</th>\n",
       "      <td>35156</td>\n",
       "      <td>0</td>\n",
       "      <td>1</td>\n",
       "      <td>0</td>\n",
       "      <td>0</td>\n",
       "      <td>0</td>\n",
       "      <td>0</td>\n",
       "      <td>0</td>\n",
       "      <td>0</td>\n",
       "      <td>1</td>\n",
       "      <td>0</td>\n",
       "      <td>1</td>\n",
       "      <td>0</td>\n",
       "      <td>0</td>\n",
       "    </tr>\n",
       "    <tr>\n",
       "      <th>4</th>\n",
       "      <td>34090</td>\n",
       "      <td>0</td>\n",
       "      <td>1</td>\n",
       "      <td>0</td>\n",
       "      <td>0</td>\n",
       "      <td>0</td>\n",
       "      <td>0</td>\n",
       "      <td>0</td>\n",
       "      <td>0</td>\n",
       "      <td>1</td>\n",
       "      <td>0</td>\n",
       "      <td>1</td>\n",
       "      <td>0</td>\n",
       "      <td>0</td>\n",
       "    </tr>\n",
       "    <tr>\n",
       "      <th>...</th>\n",
       "      <td>...</td>\n",
       "      <td>...</td>\n",
       "      <td>...</td>\n",
       "      <td>...</td>\n",
       "      <td>...</td>\n",
       "      <td>...</td>\n",
       "      <td>...</td>\n",
       "      <td>...</td>\n",
       "      <td>...</td>\n",
       "      <td>...</td>\n",
       "      <td>...</td>\n",
       "      <td>...</td>\n",
       "      <td>...</td>\n",
       "      <td>...</td>\n",
       "    </tr>\n",
       "    <tr>\n",
       "      <th>18880</th>\n",
       "      <td>50</td>\n",
       "      <td>0</td>\n",
       "      <td>0</td>\n",
       "      <td>0</td>\n",
       "      <td>1</td>\n",
       "      <td>0</td>\n",
       "      <td>0</td>\n",
       "      <td>0</td>\n",
       "      <td>0</td>\n",
       "      <td>1</td>\n",
       "      <td>0</td>\n",
       "      <td>0</td>\n",
       "      <td>0</td>\n",
       "      <td>0</td>\n",
       "    </tr>\n",
       "    <tr>\n",
       "      <th>18881</th>\n",
       "      <td>10868</td>\n",
       "      <td>0</td>\n",
       "      <td>1</td>\n",
       "      <td>0</td>\n",
       "      <td>0</td>\n",
       "      <td>0</td>\n",
       "      <td>0</td>\n",
       "      <td>0</td>\n",
       "      <td>0</td>\n",
       "      <td>1</td>\n",
       "      <td>0</td>\n",
       "      <td>0</td>\n",
       "      <td>0</td>\n",
       "      <td>0</td>\n",
       "    </tr>\n",
       "    <tr>\n",
       "      <th>18882</th>\n",
       "      <td>11664</td>\n",
       "      <td>0</td>\n",
       "      <td>1</td>\n",
       "      <td>0</td>\n",
       "      <td>0</td>\n",
       "      <td>0</td>\n",
       "      <td>0</td>\n",
       "      <td>0</td>\n",
       "      <td>0</td>\n",
       "      <td>1</td>\n",
       "      <td>0</td>\n",
       "      <td>0</td>\n",
       "      <td>0</td>\n",
       "      <td>0</td>\n",
       "    </tr>\n",
       "    <tr>\n",
       "      <th>18883</th>\n",
       "      <td>804</td>\n",
       "      <td>0</td>\n",
       "      <td>0</td>\n",
       "      <td>0</td>\n",
       "      <td>1</td>\n",
       "      <td>0</td>\n",
       "      <td>0</td>\n",
       "      <td>0</td>\n",
       "      <td>0</td>\n",
       "      <td>1</td>\n",
       "      <td>0</td>\n",
       "      <td>0</td>\n",
       "      <td>0</td>\n",
       "      <td>0</td>\n",
       "    </tr>\n",
       "    <tr>\n",
       "      <th>18884</th>\n",
       "      <td>1243</td>\n",
       "      <td>0</td>\n",
       "      <td>0</td>\n",
       "      <td>0</td>\n",
       "      <td>1</td>\n",
       "      <td>0</td>\n",
       "      <td>0</td>\n",
       "      <td>0</td>\n",
       "      <td>0</td>\n",
       "      <td>1</td>\n",
       "      <td>0</td>\n",
       "      <td>0</td>\n",
       "      <td>0</td>\n",
       "      <td>0</td>\n",
       "    </tr>\n",
       "  </tbody>\n",
       "</table>\n",
       "<p>18885 rows × 14 columns</p>\n",
       "</div>"
      ],
      "text/plain": [
       "       Passenger_Count  GEO_Region_Australia / Oceania  GEO_Region_Canada  \\\n",
       "0                27271                               0                  0   \n",
       "1                29131                               0                  0   \n",
       "2                 5415                               0                  0   \n",
       "3                35156                               0                  1   \n",
       "4                34090                               0                  1   \n",
       "...                ...                             ...                ...   \n",
       "18880               50                               0                  0   \n",
       "18881            10868                               0                  1   \n",
       "18882            11664                               0                  1   \n",
       "18883              804                               0                  0   \n",
       "18884             1243                               0                  0   \n",
       "\n",
       "       GEO_Region_Central America  GEO_Region_Europe  GEO_Region_Mexico  \\\n",
       "0                               0                  0                  0   \n",
       "1                               0                  0                  0   \n",
       "2                               0                  0                  0   \n",
       "3                               0                  0                  0   \n",
       "4                               0                  0                  0   \n",
       "...                           ...                ...                ...   \n",
       "18880                           0                  1                  0   \n",
       "18881                           0                  0                  0   \n",
       "18882                           0                  0                  0   \n",
       "18883                           0                  1                  0   \n",
       "18884                           0                  1                  0   \n",
       "\n",
       "       GEO_Region_Middle East  GEO_Region_South America  GEO_Region_US  \\\n",
       "0                           0                         0              1   \n",
       "1                           0                         0              1   \n",
       "2                           0                         0              1   \n",
       "3                           0                         0              0   \n",
       "4                           0                         0              0   \n",
       "...                       ...                       ...            ...   \n",
       "18880                       0                         0              0   \n",
       "18881                       0                         0              0   \n",
       "18882                       0                         0              0   \n",
       "18883                       0                         0              0   \n",
       "18884                       0                         0              0   \n",
       "\n",
       "       Price_Category_Code_Other  Terminal_Other  Terminal_Terminal 1  \\\n",
       "0                              0               0                    1   \n",
       "1                              0               0                    1   \n",
       "2                              0               0                    1   \n",
       "3                              1               0                    1   \n",
       "4                              1               0                    1   \n",
       "...                          ...             ...                  ...   \n",
       "18880                          1               0                    0   \n",
       "18881                          1               0                    0   \n",
       "18882                          1               0                    0   \n",
       "18883                          1               0                    0   \n",
       "18884                          1               0                    0   \n",
       "\n",
       "       Terminal_Terminal 2  Terminal_Terminal 3  \n",
       "0                        0                    0  \n",
       "1                        0                    0  \n",
       "2                        0                    0  \n",
       "3                        0                    0  \n",
       "4                        0                    0  \n",
       "...                    ...                  ...  \n",
       "18880                    0                    0  \n",
       "18881                    0                    0  \n",
       "18882                    0                    0  \n",
       "18883                    0                    0  \n",
       "18884                    0                    0  \n",
       "\n",
       "[18885 rows x 14 columns]"
      ]
     },
     "execution_count": 54,
     "metadata": {},
     "output_type": "execute_result"
    }
   ],
   "source": [
    "x"
   ]
  },
  {
   "cell_type": "code",
   "execution_count": 60,
   "metadata": {},
   "outputs": [],
   "source": [
    "model = KMeans(n_clusters=4) #Veriyi 4'e böldüm.\n",
    "model = model.fit(x)\n",
    "pred = model.predict(x)"
   ]
  },
  {
   "cell_type": "code",
   "execution_count": 61,
   "metadata": {},
   "outputs": [
    {
     "data": {
      "text/plain": [
       "array([0, 0, 0, ..., 0, 0, 0])"
      ]
     },
     "execution_count": 61,
     "metadata": {},
     "output_type": "execute_result"
    }
   ],
   "source": [
    "pred"
   ]
  },
  {
   "cell_type": "code",
   "execution_count": 62,
   "metadata": {},
   "outputs": [
    {
     "data": {
      "text/html": [
       "<div>\n",
       "<style scoped>\n",
       "    .dataframe tbody tr th:only-of-type {\n",
       "        vertical-align: middle;\n",
       "    }\n",
       "\n",
       "    .dataframe tbody tr th {\n",
       "        vertical-align: top;\n",
       "    }\n",
       "\n",
       "    .dataframe thead th {\n",
       "        text-align: right;\n",
       "    }\n",
       "</style>\n",
       "<table border=\"1\" class=\"dataframe\">\n",
       "  <thead>\n",
       "    <tr style=\"text-align: right;\">\n",
       "      <th></th>\n",
       "      <th>Passenger_Count</th>\n",
       "      <th>GEO_Region_Australia / Oceania</th>\n",
       "      <th>GEO_Region_Canada</th>\n",
       "      <th>GEO_Region_Central America</th>\n",
       "      <th>GEO_Region_Europe</th>\n",
       "      <th>GEO_Region_Mexico</th>\n",
       "      <th>GEO_Region_Middle East</th>\n",
       "      <th>GEO_Region_South America</th>\n",
       "      <th>GEO_Region_US</th>\n",
       "      <th>Price_Category_Code_Other</th>\n",
       "      <th>Terminal_Other</th>\n",
       "      <th>Terminal_Terminal 1</th>\n",
       "      <th>Terminal_Terminal 2</th>\n",
       "      <th>Terminal_Terminal 3</th>\n",
       "    </tr>\n",
       "  </thead>\n",
       "  <tbody>\n",
       "    <tr>\n",
       "      <th>0</th>\n",
       "      <td>27271</td>\n",
       "      <td>0</td>\n",
       "      <td>0</td>\n",
       "      <td>0</td>\n",
       "      <td>0</td>\n",
       "      <td>0</td>\n",
       "      <td>0</td>\n",
       "      <td>0</td>\n",
       "      <td>1</td>\n",
       "      <td>0</td>\n",
       "      <td>0</td>\n",
       "      <td>1</td>\n",
       "      <td>0</td>\n",
       "      <td>0</td>\n",
       "    </tr>\n",
       "    <tr>\n",
       "      <th>1</th>\n",
       "      <td>29131</td>\n",
       "      <td>0</td>\n",
       "      <td>0</td>\n",
       "      <td>0</td>\n",
       "      <td>0</td>\n",
       "      <td>0</td>\n",
       "      <td>0</td>\n",
       "      <td>0</td>\n",
       "      <td>1</td>\n",
       "      <td>0</td>\n",
       "      <td>0</td>\n",
       "      <td>1</td>\n",
       "      <td>0</td>\n",
       "      <td>0</td>\n",
       "    </tr>\n",
       "    <tr>\n",
       "      <th>2</th>\n",
       "      <td>5415</td>\n",
       "      <td>0</td>\n",
       "      <td>0</td>\n",
       "      <td>0</td>\n",
       "      <td>0</td>\n",
       "      <td>0</td>\n",
       "      <td>0</td>\n",
       "      <td>0</td>\n",
       "      <td>1</td>\n",
       "      <td>0</td>\n",
       "      <td>0</td>\n",
       "      <td>1</td>\n",
       "      <td>0</td>\n",
       "      <td>0</td>\n",
       "    </tr>\n",
       "    <tr>\n",
       "      <th>3</th>\n",
       "      <td>35156</td>\n",
       "      <td>0</td>\n",
       "      <td>1</td>\n",
       "      <td>0</td>\n",
       "      <td>0</td>\n",
       "      <td>0</td>\n",
       "      <td>0</td>\n",
       "      <td>0</td>\n",
       "      <td>0</td>\n",
       "      <td>1</td>\n",
       "      <td>0</td>\n",
       "      <td>1</td>\n",
       "      <td>0</td>\n",
       "      <td>0</td>\n",
       "    </tr>\n",
       "    <tr>\n",
       "      <th>4</th>\n",
       "      <td>34090</td>\n",
       "      <td>0</td>\n",
       "      <td>1</td>\n",
       "      <td>0</td>\n",
       "      <td>0</td>\n",
       "      <td>0</td>\n",
       "      <td>0</td>\n",
       "      <td>0</td>\n",
       "      <td>0</td>\n",
       "      <td>1</td>\n",
       "      <td>0</td>\n",
       "      <td>1</td>\n",
       "      <td>0</td>\n",
       "      <td>0</td>\n",
       "    </tr>\n",
       "  </tbody>\n",
       "</table>\n",
       "</div>"
      ],
      "text/plain": [
       "   Passenger_Count  GEO_Region_Australia / Oceania  GEO_Region_Canada  \\\n",
       "0            27271                               0                  0   \n",
       "1            29131                               0                  0   \n",
       "2             5415                               0                  0   \n",
       "3            35156                               0                  1   \n",
       "4            34090                               0                  1   \n",
       "\n",
       "   GEO_Region_Central America  GEO_Region_Europe  GEO_Region_Mexico  \\\n",
       "0                           0                  0                  0   \n",
       "1                           0                  0                  0   \n",
       "2                           0                  0                  0   \n",
       "3                           0                  0                  0   \n",
       "4                           0                  0                  0   \n",
       "\n",
       "   GEO_Region_Middle East  GEO_Region_South America  GEO_Region_US  \\\n",
       "0                       0                         0              1   \n",
       "1                       0                         0              1   \n",
       "2                       0                         0              1   \n",
       "3                       0                         0              0   \n",
       "4                       0                         0              0   \n",
       "\n",
       "   Price_Category_Code_Other  Terminal_Other  Terminal_Terminal 1  \\\n",
       "0                          0               0                    1   \n",
       "1                          0               0                    1   \n",
       "2                          0               0                    1   \n",
       "3                          1               0                    1   \n",
       "4                          1               0                    1   \n",
       "\n",
       "   Terminal_Terminal 2  Terminal_Terminal 3  \n",
       "0                    0                    0  \n",
       "1                    0                    0  \n",
       "2                    0                    0  \n",
       "3                    0                    0  \n",
       "4                    0                    0  "
      ]
     },
     "execution_count": 62,
     "metadata": {},
     "output_type": "execute_result"
    }
   ],
   "source": [
    "x.head()"
   ]
  },
  {
   "cell_type": "code",
   "execution_count": 63,
   "metadata": {},
   "outputs": [
    {
     "data": {
      "text/plain": [
       "0.7861216955234733"
      ]
     },
     "execution_count": 63,
     "metadata": {},
     "output_type": "execute_result"
    }
   ],
   "source": [
    "silhouette_score(x,y)"
   ]
  },
  {
   "cell_type": "code",
   "execution_count": 58,
   "metadata": {},
   "outputs": [
    {
     "data": {
      "text/plain": [
       "array([1, 1, 1, ..., 1, 1, 1])"
      ]
     },
     "execution_count": 58,
     "metadata": {},
     "output_type": "execute_result"
    }
   ],
   "source": [
    "clust = x.assign(Cluster =model.labels_)\n",
    "model.cluster_centers_.astype(\"int\")\n",
    "\n",
    "model.labels_"
   ]
  },
  {
   "cell_type": "code",
   "execution_count": 64,
   "metadata": {},
   "outputs": [],
   "source": [
    "def cluster(clusters):\n",
    "    for no_of_cluster in np.arange(1,clusters):\n",
    "        no_of_cluster+=1\n",
    "        model = KMeans(n_clusters = no_of_cluster)\n",
    "        model = model.fit(y)\n",
    "        pred = model.predict(x)\n",
    "        score = silhouette_score(x,pred)\n",
    "        print(f\"Number of cluster {no_of_cluster}, silhouette {score}\")"
   ]
  },
  {
   "cell_type": "code",
   "execution_count": 65,
   "metadata": {},
   "outputs": [
    {
     "data": {
      "text/plain": [
       "array([0, 0, 0, ..., 0, 0, 0])"
      ]
     },
     "execution_count": 65,
     "metadata": {},
     "output_type": "execute_result"
    }
   ],
   "source": [
    "clust = x.assign(Cluster = model.labels_)\n",
    "model.cluster_centers_.astype(\"int\")\n",
    "model.labels_"
   ]
  },
  {
   "cell_type": "code",
   "execution_count": 70,
   "metadata": {},
   "outputs": [
    {
     "name": "stdout",
     "output_type": "stream",
     "text": [
      "Number of cluster 2, silhoutte 0.8596461995819217\n",
      "Number of cluster 3, silhoutte 0.8286158604713372\n",
      "Number of cluster 4, silhoutte 0.7861831855914189\n",
      "Number of cluster 5, silhoutte 0.7844924899756253\n",
      "Number of cluster 6, silhoutte 0.6607423254086041\n",
      "Number of cluster 7, silhoutte 0.6622970079781386\n",
      "Number of cluster 8, silhoutte 0.6509653179116209\n",
      "Number of cluster 9, silhoutte 0.6413859236517557\n",
      "Number of cluster 10, silhoutte 0.6127866165752038\n"
     ]
    }
   ],
   "source": [
    "allscore=[]\n",
    "allclusters=[]\n",
    "def clust(clusters):\n",
    "    for no_of_cluster in np.arange(1,clusters):\n",
    "        no_of_cluster+=1\n",
    "        model=KMeans(n_clusters=no_of_cluster)\n",
    "        pred=model.fit_predict(x)\n",
    "        score=silhouette_score(x,pred)\n",
    "        print(f'Number of cluster {no_of_cluster}, silhoutte {score}')\n",
    "        allscore.append(score)\n",
    "        allclusters.append(no_of_cluster)\n",
    "clust(10)\n",
    "#cluster' değişmediği noktada durmak gerekiyor.\n",
    "#4 gruba ayırmak mantıklıymış."
   ]
  },
  {
   "cell_type": "code",
   "execution_count": 71,
   "metadata": {
    "scrolled": true
   },
   "outputs": [
    {
     "data": {
      "image/png": "[encoded data removed]",
      "text/plain": [
       "<Figure size 432x288 with 1 Axes>"
      ]
     },
     "metadata": {
      "needs_background": "light"
     },
     "output_type": "display_data"
    }
   ],
   "source": [
    "plt.plot(allclusters,allscore)\n",
    "plt.xlabel('Clusters()')\n",
    "plt.ylabel('Silhoutte_Score')\n",
    "plt.title('Silhouette Method')\n",
    "plt.xlim(0,15)\n",
    "plt.show()"
   ]
  },
  {
   "cell_type": "code",
   "execution_count": 73,
   "metadata": {},
   "outputs": [
    {
     "name": "stdout",
     "output_type": "stream",
     "text": [
      "Number of cluster 2, silhouette 0.8596461995819217\n",
      "Number of cluster 3, silhouette 0.8286421828901921\n",
      "Number of cluster 4, silhouette 0.7861831855914189\n",
      "Number of cluster 5, silhouette 0.7845446894594482\n",
      "Number of cluster 6, silhouette 0.6585570327203845\n",
      "Number of cluster 7, silhouette 0.6592060879801571\n",
      "Number of cluster 8, silhouette 0.6467319395003722\n",
      "Number of cluster 9, silhouette 0.6410106197466979\n"
     ]
    }
   ],
   "source": [
    "allscore=[]\n",
    "allclusters=[]\n",
    "sum_of_squared_distances = []\n",
    "def clust(clusters):\n",
    "    for no_of_cluster in np.arange(1,clusters):\n",
    "        \n",
    "        no_of_cluster+=1\n",
    "        model=KMeans(n_clusters=no_of_cluster)\n",
    "        #model-model fit(x) \n",
    "        pred=model.fit_predict(x)\n",
    "        sum_of_squared_distances.append(model.inertia_)\n",
    "        score=silhouette_score(x,pred)\n",
    "        print (\"Number of cluster {}, silhouette {}\".format(no_of_cluster,score))\n",
    "        allscore.append(score)\n",
    "        allclusters.append(no_of_cluster)\n",
    "clust(9)"
   ]
  },
  {
   "cell_type": "code",
   "execution_count": 74,
   "metadata": {},
   "outputs": [
    {
     "data": {
      "text/plain": [
       "Text(0.5, 1.0, 'The Elbow Method showing optimal K')"
      ]
     },
     "execution_count": 74,
     "metadata": {},
     "output_type": "execute_result"
    },
    {
     "data": {
      "image/png": "[encoded data removed]",
      "text/plain": [
       "<Figure size 432x288 with 1 Axes>"
      ]
     },
     "metadata": {
      "needs_background": "light"
     },
     "output_type": "display_data"
    }
   ],
   "source": [
    "plt.plot(allclusters,sum_of_squared_distances,marker='x')\n",
    "plt.xlabel('k')\n",
    "plt.ylabel('Distortion')\n",
    "plt.title('The Elbow Method showing optimal K')\n",
    "#dirseğin kıırldığı noktalar kaça bölmemizi gösteriyor. 4 mantıklı"
   ]
  },
  {
   "cell_type": "code",
   "execution_count": null,
   "metadata": {},
   "outputs": [],
   "source": []
  },
  {
   "cell_type": "code",
   "execution_count": null,
   "metadata": {},
   "outputs": [],
   "source": []
  }
 ],
 "metadata": {
  "kernelspec": {
   "display_name": "Python 3",
   "language": "python",
   "name": "python3"
  },
  "language_info": {
   "codemirror_mode": {
    "name": "ipython",
    "version": 3
   },
   "file_extension": ".py",
   "mimetype": "text/x-python",
   "name": "python",
   "nbconvert_exporter": "python",
   "pygments_lexer": "ipython3",
   "version": "3.8.5"
  }
 },
 "nbformat": 4,
 "nbformat_minor": 4
}
